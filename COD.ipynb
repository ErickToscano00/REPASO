{
 "cells": [
  {
   "cell_type": "markdown",
   "id": "46518870",
   "metadata": {},
   "source": [
    "## Prueba de cosas nuevas\n"
   ]
  },
  {
   "cell_type": "code",
   "execution_count": null,
   "id": "695cf554",
   "metadata": {},
   "outputs": [],
   "source": [
    "import numpy as np\n"
   ]
  },
  {
   "cell_type": "code",
   "execution_count": null,
   "id": "f4ea819e",
   "metadata": {},
   "outputs": [],
   "source": [
    "def gradiente_conjugado(A, b, x0=None, tol=1e-8, max_iter=1000):\n",
    "    n = b.shape[0]\n",
    "    if x0 is None:\n",
    "        x = np.zeros(n)\n",
    "    else:\n",
    "        x = x0\n",
    "    r = b - A @ x\n",
    "    p = r.copy()\n",
    "    rs_old = np.dot(r, r)\n",
    "    for i in range(max_iter):\n",
    "        Ap = A @ p\n",
    "        alpha = rs_old / np.dot(p, Ap)\n",
    "        x = x + alpha * p\n",
    "        r = r - alpha * Ap\n",
    "        rs_new = np.dot(r, r)\n",
    "        if np.sqrt(rs_new) < tol:\n",
    "            break\n",
    "        p = r + (rs_new / rs_old) * p\n",
    "        rs_old = rs_new\n",
    "    return x"
   ]
  },
  {
   "cell_type": "code",
   "execution_count": null,
   "id": "993c70a5",
   "metadata": {},
   "outputs": [],
   "source": []
  },
  {
   "cell_type": "code",
   "execution_count": null,
   "id": "c348388c",
   "metadata": {},
   "outputs": [],
   "source": [
    "def gauss_seidel(A, b, x0=None, tol=1e-8, max_iter=1000):\n",
    "    n = b.shape[0]\n",
    "    if x0 is None:\n",
    "        x = np.zeros(n)\n",
    "    else:\n",
    "        x = x0.copy()\n",
    "    for k in range(max_iter):\n",
    "        x_old = x.copy()\n",
    "        for i in range(n):\n",
    "            s1 = np.dot(A[i, :i], x[:i])\n",
    "            s2 = np.dot(A[i, i+1:], x_old[i+1:])\n",
    "            x[i] = (b[i] - s1 - s2) / A[i, i]\n",
    "        if np.linalg.norm(x - x_old, ord=np.inf) < tol:\n",
    "            break\n",
    "    return x"
   ]
  },
  {
   "cell_type": "code",
   "execution_count": null,
   "id": "5aa74de9",
   "metadata": {},
   "outputs": [],
   "source": [
    "import numpy as np\n",
    "import matplotlib.pyplot as plt\n",
    "\n",
    "def solve_ode_explicit(N):\n",
    "    h = 1.0 / (N - 1)\n",
    "    x = np.linspace(0, 1, N)\n",
    "    \n",
    "    # Inicializar matriz A y vector b\n",
    "    A = np.zeros((N, N))\n",
    "    b = np.zeros(N)\n",
    "    \n",
    "    # Condiciones de contorno\n",
    "    A[0, 0] = 1\n",
    "    b[0] = 0\n",
    "    A[-1, -1] = 1\n",
    "    b[-1] = 0\n",
    "    \n",
    "    # Llenar la matriz A y el vector b para los puntos interiores\n",
    "    for i in range(1, N-1):\n",
    "        A[i, i-1] = 1 / h**2\n",
    "        A[i, i] = -2 / h**2 - 5 / h + 6\n",
    "        A[i, i+1] = 1 / h**2 + 5 / h\n",
    "        b[i] = np.sin(x[i])\n",
    "    \n",
    "    # Resolver el sistema lineal\n",
    "    y = np.linalg.solve(A, b)\n",
    "    \n",
    "    return x, y\n",
    "\n",
    "# Parámetros\n",
    "N = 100  # Número de puntos\n",
    "x, y = solve_ode_explicit(N)\n",
    "\n",
    "# Solución exacta (simplificada para comparación)\n",
    "def exact_solution(x):\n",
    "    return (np.exp(2*x) - np.exp(3*x)) / 10 + (np.sin(x) + np.cos(x)) / 10\n",
    "\n",
    "y_exact = exact_solution(x)\n",
    "\n",
    "# Gráfico\n",
    "plt.figure(figsize=(10, 6))\n",
    "plt.plot(x, y, 'b-', label='Solución numérica')\n",
    "plt.plot(x, y_exact, 'r--', label='Solución exacta')\n",
    "plt.xlabel('x')\n",
    "plt.ylabel('y(x)')\n",
    "plt.legend()\n",
    "plt.title('Comparación entre solución numérica y exacta')\n",
    "plt.grid()\n",
    "plt.show()\n",
    "\n",
    "# Error y convergencia\n",
    "error = np.max(np.abs(y - y_exact))\n",
    "print(f\"Error máximo (N={N}): {error}\")\n"
   ]
  },
  {
   "cell_type": "code",
   "execution_count": null,
   "id": "f30cf4c4",
   "metadata": {},
   "outputs": [],
   "source": [
    "N_values = [10, 20, 50, 100, 200, 500]\n",
    "errors = []\n",
    "\n",
    "for N in N_values:\n",
    "    x, y = solve_ode_explicit(N)\n",
    "    y_exact = exact_solution(x)\n",
    "    error = np.max(np.abs(y - y_exact))\n",
    "    errors.append(error)\n",
    "\n",
    "# Gráfico de convergencia\n",
    "plt.figure(figsize=(10, 6))\n",
    "plt.loglog(N_values, errors, 'bo-', label='Error máximo')\n",
    "plt.xlabel('N (número de puntos)')\n",
    "plt.ylabel('Error máximo')\n",
    "plt.title('Convergencia del método numérico')\n",
    "plt.grid()\n",
    "plt.legend()\n",
    "plt.show()"
   ]
  }
 ],
 "metadata": {
  "kernelspec": {
   "display_name": "Python (venv)",
   "language": "python",
   "name": "venv"
  },
  "language_info": {
   "codemirror_mode": {
    "name": "ipython",
    "version": 3
   },
   "file_extension": ".py",
   "mimetype": "text/x-python",
   "name": "python",
   "nbconvert_exporter": "python",
   "pygments_lexer": "ipython3",
   "version": "3.13.3"
  }
 },
 "nbformat": 4,
 "nbformat_minor": 5
}
